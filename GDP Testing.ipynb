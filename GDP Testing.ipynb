{
 "cells": [
  {
   "cell_type": "code",
   "execution_count": 1,
   "metadata": {},
   "outputs": [],
   "source": [
    "import requests\n",
    "import json\n",
    "import matplotlib.pyplot as plt\n",
    "import pandas as pd\n",
    "import numpy as np\n",
    "import matplotlib.ticker as plticker\n",
    "import csv\n",
    "\n",
    "with open('China_GDP.csv') as csvfile:\n",
    "    readCSV = csv.reader(csvfile, delimiter=',')\n",
    "    for row in readCSV:\n",
    "        if len(row) != 66:\n",
    "            print(row)\n",
    "            print()\n"
   ]
  },
  {
   "cell_type": "code",
   "execution_count": 2,
   "metadata": {},
   "outputs": [],
   "source": [
    "China_GDP_data = pd.read_csv(\"China_GDP.csv\")\n",
    "# China_GDP_data"
   ]
  },
  {
   "cell_type": "code",
   "execution_count": 3,
   "metadata": {},
   "outputs": [],
   "source": [
    "China_GDP_data = China_GDP_data.drop(columns=['Country Code', 'Indicator Name', 'Indicator Code'])"
   ]
  },
  {
   "cell_type": "code",
   "execution_count": 4,
   "metadata": {},
   "outputs": [],
   "source": [
    "column_names = China_GDP_data.columns.values"
   ]
  },
  {
   "cell_type": "code",
   "execution_count": 5,
   "metadata": {},
   "outputs": [
    {
     "data": {
      "text/plain": [
       "array(['1960', '1961', '1962', '1963', '1964', '1965', '1966', '1967',\n",
       "       '1968', '1969', '1970', '1971', '1972', '1973', '1974', '1975',\n",
       "       '1976', '1977', '1978', '1979', '1980', '1981', '1982', '1983',\n",
       "       '1984', '1985', '1986', '1987', '1988', '1989', '1990', '1991',\n",
       "       '1992', '1993', '1994', '1995', '1996', '1997', '1998', '1999',\n",
       "       '2000', '2001', '2002', '2003', '2004', '2005', '2006', '2007',\n",
       "       '2008', '2009', '2010', '2011', '2012', '2013', '2014', '2015',\n",
       "       '2016', '2017', '2018', '2019', '2020'], dtype=object)"
      ]
     },
     "execution_count": 5,
     "metadata": {},
     "output_type": "execute_result"
    }
   ],
   "source": [
    "years = column_names[1:-1]\n",
    "years\n",
    "# def format_column_names(column_names):\n",
    "#     new_column_names = []\n",
    "#     for each in column_names:\n",
    "# #         temp = each.split(\"_\")\n",
    "#         if len(temp) == 2:\n",
    "#             new_column_names.append(temp[1])\n",
    "#         else:\n",
    "#             new_column_names.append(temp[0])\n",
    "#     return new_column_names"
   ]
  },
  {
   "cell_type": "code",
   "execution_count": 6,
   "metadata": {},
   "outputs": [
    {
     "data": {
      "text/html": [
       "<div>\n",
       "<style scoped>\n",
       "    .dataframe tbody tr th:only-of-type {\n",
       "        vertical-align: middle;\n",
       "    }\n",
       "\n",
       "    .dataframe tbody tr th {\n",
       "        vertical-align: top;\n",
       "    }\n",
       "\n",
       "    .dataframe thead th {\n",
       "        text-align: right;\n",
       "    }\n",
       "</style>\n",
       "<table border=\"1\" class=\"dataframe\">\n",
       "  <thead>\n",
       "    <tr style=\"text-align: right;\">\n",
       "      <th></th>\n",
       "      <th>Country Name</th>\n",
       "      <th>1960</th>\n",
       "      <th>1961</th>\n",
       "      <th>1962</th>\n",
       "      <th>1963</th>\n",
       "      <th>1964</th>\n",
       "      <th>1965</th>\n",
       "      <th>1966</th>\n",
       "      <th>1967</th>\n",
       "      <th>1968</th>\n",
       "      <th>...</th>\n",
       "      <th>2012</th>\n",
       "      <th>2013</th>\n",
       "      <th>2014</th>\n",
       "      <th>2015</th>\n",
       "      <th>2016</th>\n",
       "      <th>2017</th>\n",
       "      <th>2018</th>\n",
       "      <th>2019</th>\n",
       "      <th>2020</th>\n",
       "      <th>Unnamed: 65</th>\n",
       "    </tr>\n",
       "  </thead>\n",
       "  <tbody>\n",
       "    <tr>\n",
       "      <th>107</th>\n",
       "      <td>India</td>\n",
       "      <td>3.702988e+10</td>\n",
       "      <td>3.923244e+10</td>\n",
       "      <td>4.216148e+10</td>\n",
       "      <td>4.842192e+10</td>\n",
       "      <td>5.648029e+10</td>\n",
       "      <td>5.955485e+10</td>\n",
       "      <td>4.586546e+10</td>\n",
       "      <td>5.013494e+10</td>\n",
       "      <td>5.308546e+10</td>\n",
       "      <td>...</td>\n",
       "      <td>1.827638e+12</td>\n",
       "      <td>1.856722e+12</td>\n",
       "      <td>2.039127e+12</td>\n",
       "      <td>2.103588e+12</td>\n",
       "      <td>2.294798e+12</td>\n",
       "      <td>2.652755e+12</td>\n",
       "      <td>2.713165e+12</td>\n",
       "      <td>2.875142e+12</td>\n",
       "      <td>NaN</td>\n",
       "      <td>NaN</td>\n",
       "    </tr>\n",
       "  </tbody>\n",
       "</table>\n",
       "<p>1 rows × 63 columns</p>\n",
       "</div>"
      ],
      "text/plain": [
       "    Country Name          1960          1961          1962          1963  \\\n",
       "107        India  3.702988e+10  3.923244e+10  4.216148e+10  4.842192e+10   \n",
       "\n",
       "             1964          1965          1966          1967          1968  \\\n",
       "107  5.648029e+10  5.955485e+10  4.586546e+10  5.013494e+10  5.308546e+10   \n",
       "\n",
       "     ...          2012          2013          2014          2015  \\\n",
       "107  ...  1.827638e+12  1.856722e+12  2.039127e+12  2.103588e+12   \n",
       "\n",
       "             2016          2017          2018          2019  2020  Unnamed: 65  \n",
       "107  2.294798e+12  2.652755e+12  2.713165e+12  2.875142e+12   NaN          NaN  \n",
       "\n",
       "[1 rows x 63 columns]"
      ]
     },
     "execution_count": 6,
     "metadata": {},
     "output_type": "execute_result"
    }
   ],
   "source": [
    "row_d = China_GDP_data.loc[China_GDP_data[\"Country Name\"]==\"India\"]\n",
    "row_d"
   ]
  },
  {
   "cell_type": "code",
   "execution_count": 7,
   "metadata": {},
   "outputs": [],
   "source": [
    "row = China_GDP_data.iloc[107] ## gets specific rows data --- How would I go about plotting this?\n",
    "row_data = row.values[1:-1]\n",
    "row_idx = row.index[1:-1]\n",
    "# print(row_data)\n",
    "# print(row_idx)\n",
    "# print(type(row))"
   ]
  },
  {
   "cell_type": "code",
   "execution_count": 8,
   "metadata": {},
   "outputs": [
    {
     "data": {
      "text/plain": [
       "Text(0.5, 1.0, \"India's GDP vs Time (Years)\")"
      ]
     },
     "execution_count": 8,
     "metadata": {},
     "output_type": "execute_result"
    },
    {
     "data": {
      "image/png": "[encoded data removed]",
      "text/plain": [
       "<Figure size 432x288 with 1 Axes>"
      ]
     },
     "metadata": {
      "needs_background": "light"
     },
     "output_type": "display_data"
    }
   ],
   "source": [
    "fig, axs = plt.subplots()\n",
    "axs.scatter(years, row_data, label = \"Uganda Adoptions over Time (Years)\")\n",
    "plt.xticks(rotation=90)\n",
    "loc = plticker.MultipleLocator(base=5) # this locator puts ticks at regular intervals\n",
    "axs.xaxis.set_major_locator(loc)\n",
    "\n",
    "plt.xlabel(\"Time (Years)\")\n",
    "plt.ylabel(\"Annual GDP\")\n",
    "\n",
    "#title\n",
    "plt.title(\"India's GDP vs Time (Years)\")"
   ]
  },
  {
   "cell_type": "code",
   "execution_count": 53,
   "metadata": {},
   "outputs": [],
   "source": [
    "# list(China_GDP_data.columns.values)"
   ]
  },
  {
   "cell_type": "code",
   "execution_count": null,
   "metadata": {},
   "outputs": [],
   "source": []
  }
 ],
 "metadata": {
  "kernelspec": {
   "display_name": "Python 3",
   "language": "python",
   "name": "python3"
  },
  "language_info": {
   "codemirror_mode": {
    "name": "ipython",
    "version": 3
   },
   "file_extension": ".py",
   "mimetype": "text/x-python",
   "name": "python",
   "nbconvert_exporter": "python",
   "pygments_lexer": "ipython3",
   "version": "3.8.3"
  }
 },
 "nbformat": 4,
 "nbformat_minor": 4
}
